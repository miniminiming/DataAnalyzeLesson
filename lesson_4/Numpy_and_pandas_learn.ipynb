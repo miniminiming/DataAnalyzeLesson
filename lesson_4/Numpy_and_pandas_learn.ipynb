{
 "cells": [
  {
   "cell_type": "code",
   "execution_count": 23,
   "metadata": {},
   "outputs": [],
   "source": [
    "import numpy as np"
   ]
  },
  {
   "cell_type": "code",
   "execution_count": 24,
   "metadata": {},
   "outputs": [],
   "source": [
    "countries = np.array([\n",
    "    'Afghanistan', 'Albania', 'Algeria', 'Angola', 'Argentina',\n",
    "    'Armenia', 'Australia', 'Austria', 'Azerbaijan', 'Bahamas',\n",
    "    'Bahrain', 'Bangladesh', 'Barbados', 'Belarus', 'Belgium',\n",
    "    'Belize', 'Benin', 'Bhutan', 'Bolivia',\n",
    "    'Bosnia and Herzegovina'\n",
    "])\n",
    "employment = np.array([\n",
    "    55.70000076,  51.40000153,  50.5       ,  75.69999695,\n",
    "    58.40000153,  40.09999847,  61.5       ,  57.09999847,\n",
    "    60.90000153,  66.59999847,  60.40000153,  68.09999847,\n",
    "    66.90000153,  53.40000153,  48.59999847,  56.79999924,\n",
    "    71.59999847,  58.40000153,  70.40000153,  41.20000076\n",
    "])"
   ]
  },
  {
   "cell_type": "code",
   "execution_count": 25,
   "metadata": {},
   "outputs": [
    {
     "name": "stdout",
     "output_type": "stream",
     "text": [
      "|S22\n",
      "float64\n",
      "int32\n",
      "float64\n",
      "bool\n",
      "|S2\n"
     ]
    }
   ],
   "source": [
    "# Element types\n",
    "if True:\n",
    "    print countries.dtype #|S22 22 is length\n",
    "    print employment.dtype\n",
    "    print np.array([0, 1, 2, 3]).dtype\n",
    "    print np.array([1.0, 1.5, 2.0, 2.5]).dtype\n",
    "    print np.array([True, False, True]).dtype\n",
    "    print np.array(['AL', 'AK', 'AZ', 'AR', 'CA']).dtype"
   ]
  },
  {
   "cell_type": "code",
   "execution_count": 26,
   "metadata": {},
   "outputs": [],
   "source": [
    "def max_employment(countries, employment):\n",
    "    '''\n",
    "    Fill in this function to return the name of the country\n",
    "    with the highest employment in the given employment\n",
    "    data, and the employment in that country.\n",
    "    '''\n",
    "    max_country = None      # Replace this with your code\n",
    "    max_value = None   # Replace this with your code\n",
    "\n",
    "    for employ in employment:\n",
    "        if employ > max_value:\n",
    "            max_value = employ\n",
    "    #np.argwhere是获取下标的方法\n",
    "    max_country = countries[np.argwhere(employment == max_value)]\n",
    "    return (max_country, max_value)"
   ]
  },
  {
   "cell_type": "code",
   "execution_count": 27,
   "metadata": {},
   "outputs": [],
   "source": [
    "def max_employment_easy(countries, employment):\n",
    "    max_value_index = employment.argmax();\n",
    "    return (countries[max_value_index],employment[max_value_index])"
   ]
  },
  {
   "cell_type": "code",
   "execution_count": 28,
   "metadata": {},
   "outputs": [
    {
     "name": "stdout",
     "output_type": "stream",
     "text": [
      "('Angola', 75.69999695)\n"
     ]
    }
   ],
   "source": [
    "print max_employment_easy(countries, employment)"
   ]
  },
  {
   "cell_type": "code",
   "execution_count": 29,
   "metadata": {},
   "outputs": [
    {
     "name": "stdout",
     "output_type": "stream",
     "text": [
      "(array([['Angola']], dtype='|S22'), 75.69999695)\n"
     ]
    }
   ],
   "source": [
    "print max_employment(countries, employment)"
   ]
  },
  {
   "cell_type": "code",
   "execution_count": 30,
   "metadata": {},
   "outputs": [
    {
     "name": "stdout",
     "output_type": "stream",
     "text": [
      "[2 4 4 6]\n",
      "[0 0 2 2]\n",
      "[1 4 3 8]\n",
      "[1 1 3 2]\n",
      "[ 1  4  3 16]\n"
     ]
    }
   ],
   "source": [
    "if True:\n",
    "    a = np.array([1, 2, 3, 4])\n",
    "    b = np.array([1, 2, 1, 2])\n",
    "    \n",
    "    print a + b\n",
    "    print a - b\n",
    "    print a * b\n",
    "    print a / b\n",
    "    print a ** b #指数运算，这里都是一对一进行的，也就是按下标来一对一处理\n",
    "    "
   ]
  },
  {
   "cell_type": "code",
   "execution_count": 31,
   "metadata": {},
   "outputs": [
    {
     "name": "stdout",
     "output_type": "stream",
     "text": [
      "[3 4 5 6]\n",
      "[-1  0  1  2]\n",
      "[2 4 6 8]\n",
      "[0 1 1 2]\n",
      "[ 1  4  9 16]\n"
     ]
    }
   ],
   "source": [
    "if True:\n",
    "    a = np.array([1, 2, 3, 4])\n",
    "    b = 2\n",
    "    \n",
    "    print a + b\n",
    "    print a - b\n",
    "    print a * b\n",
    "    print a / b\n",
    "    print a ** b"
   ]
  },
  {
   "cell_type": "code",
   "execution_count": 32,
   "metadata": {},
   "outputs": [
    {
     "name": "stdout",
     "output_type": "stream",
     "text": [
      "[ True False False False]\n",
      "[ True  True  True False]\n",
      "[False False  True  True]\n",
      "[ True  True False False]\n",
      "[False False False False]\n",
      "[ True  True  True  True]\n",
      "[ True  True False False]\n"
     ]
    }
   ],
   "source": [
    "if True:\n",
    "    a = np.array([True, True, False, False])\n",
    "    b = np.array([True, False, True, False])\n",
    "    \n",
    "    print a & b\n",
    "    print a | b\n",
    "    print ~a\n",
    "    \n",
    "    print a & True\n",
    "    print a & False\n",
    "    \n",
    "    print a | True\n",
    "    print a | False"
   ]
  },
  {
   "cell_type": "code",
   "execution_count": 33,
   "metadata": {},
   "outputs": [
    {
     "name": "stdout",
     "output_type": "stream",
     "text": [
      "[False False False  True  True]\n",
      "[False False  True  True  True]\n",
      "[ True  True False False False]\n",
      "[ True  True  True False False]\n",
      "[False False  True False False]\n",
      "[ True  True False  True  True]\n"
     ]
    }
   ],
   "source": [
    "if True:\n",
    "    a = np.array([1, 2, 3, 4, 5])\n",
    "    b = np.array([5, 4, 3, 2, 1])\n",
    "    \n",
    "    print a > b\n",
    "    print a >= b\n",
    "    print a < b\n",
    "    print a <= b\n",
    "    print a == b\n",
    "    print a != b"
   ]
  },
  {
   "cell_type": "code",
   "execution_count": 34,
   "metadata": {},
   "outputs": [
    {
     "name": "stdout",
     "output_type": "stream",
     "text": [
      "[False False  True  True]\n",
      "[False  True  True  True]\n",
      "[ True False False False]\n",
      "[ True  True False False]\n",
      "[False  True False False]\n",
      "[ True False  True  True]\n"
     ]
    }
   ],
   "source": [
    "if True:\n",
    "    a = np.array([1, 2, 3, 4])\n",
    "    b = 2\n",
    "    \n",
    "    print a > b\n",
    "    print a >= b\n",
    "    print a < b\n",
    "    print a <= b\n",
    "    print a == b\n",
    "    print a != b"
   ]
  },
  {
   "cell_type": "code",
   "execution_count": 35,
   "metadata": {},
   "outputs": [],
   "source": [
    "# Female school completion rate in 2007 for those 20 countries\n",
    "female_completion = np.array([\n",
    "    97.35583,  104.62379,  103.02998,   95.14321,  103.69019,\n",
    "    98.49185,  100.88828,   95.43974,   92.11484,   91.54804,\n",
    "    95.98029,   98.22902,   96.12179,  119.28105,   97.84627,\n",
    "    29.07386,   38.41644,   90.70509,   51.7478 ,   95.45072\n",
    "])\n",
    "\n",
    "# Male school completion rate in 2007 for those 20 countries\n",
    "male_completion = np.array([\n",
    "     95.47622,  100.66476,   99.7926 ,   91.48936,  103.22096,\n",
    "     97.80458,  103.81398,   88.11736,   93.55611,   87.76347,\n",
    "    102.45714,   98.73953,   92.22388,  115.3892 ,   98.70502,\n",
    "     37.00692,   45.39401,   91.22084,   62.42028,   90.66958\n",
    "])"
   ]
  },
  {
   "cell_type": "code",
   "execution_count": 36,
   "metadata": {},
   "outputs": [],
   "source": [
    "def overall_completion_rate(female_completion, male_completion):\n",
    "    '''\n",
    "    Fill in this function to return a NumPy array containing the overall\n",
    "    school completion rate for each country. The arguments are NumPy\n",
    "    arrays giving the female and male completion of each country in\n",
    "    the same order.\n",
    "    '''\n",
    "    #这里要用2.0，如果用整数类型会得到整数类型\n",
    "    return (female_completion + male_completion)/ 2.0"
   ]
  },
  {
   "cell_type": "code",
   "execution_count": 37,
   "metadata": {},
   "outputs": [
    {
     "name": "stdout",
     "output_type": "stream",
     "text": [
      "[ 96.416025 102.644275 101.41129   93.316285 103.455575  98.148215\n",
      " 102.35113   91.77855   92.835475  89.655755  99.218715  98.484275\n",
      "  94.172835 117.335125  98.275645  33.04039   41.905225  90.962965\n",
      "  57.08404   93.06015 ]\n"
     ]
    }
   ],
   "source": [
    "print overall_completion_rate(female_completion, male_completion)"
   ]
  },
  {
   "cell_type": "code",
   "execution_count": 38,
   "metadata": {},
   "outputs": [],
   "source": [
    "def standardize_data(values):\n",
    "    '''\n",
    "    Fill in this function to return a standardized version of the given values,\n",
    "    which will be in a NumPy array. Each value should be translated into the\n",
    "    number of standard deviations that value is away from the mean of the data.\n",
    "    (A positive number indicates a value higher than the mean, and a negative\n",
    "    number indicates a value lower than the mean.)\n",
    "    '''\n",
    "    #把这一列数据点标准化，公式是每个点减去平均值，然后除以标准差，最后得出的就是\n",
    "    return (values - np.mean(values)) / np.std(values)"
   ]
  },
  {
   "cell_type": "code",
   "execution_count": 39,
   "metadata": {},
   "outputs": [
    {
     "name": "stdout",
     "output_type": "stream",
     "text": [
      "[-0.31965231 -0.780123   -0.87650077  1.82207181 -0.03051941 -1.99019768\n",
      "  0.30144772 -0.16973184  0.23719615  0.84758731  0.18365304  1.00821665\n",
      "  0.87971351 -0.56595055 -1.07996476 -0.20185762  1.38301845 -0.03051941\n",
      "  1.2545153  -1.87240259]\n"
     ]
    }
   ],
   "source": [
    "print standardize_data(employment)"
   ]
  },
  {
   "cell_type": "code",
   "execution_count": 40,
   "metadata": {},
   "outputs": [
    {
     "name": "stdout",
     "output_type": "stream",
     "text": [
      "[1 2]\n",
      "[1 3]\n"
     ]
    }
   ],
   "source": [
    "if True:\n",
    "    a = np.array([1, 2, 3, 4])\n",
    "    b = np.array([True, True, False, False])\n",
    "    \n",
    "    print a[b]\n",
    "    print a[np.array([True, False, True, False])]\n",
    "    "
   ]
  },
  {
   "cell_type": "code",
   "execution_count": 41,
   "metadata": {},
   "outputs": [
    {
     "name": "stdout",
     "output_type": "stream",
     "text": [
      "[False  True  True  True False]\n",
      "[2 3 2]\n",
      "[2 3 2]\n"
     ]
    }
   ],
   "source": [
    "if True:\n",
    "    a = np.array([1, 2, 3, 2, 1])\n",
    "    b = (a >= 2) \n",
    "    \n",
    "    print b\n",
    "    print a[b]\n",
    "    print a[a >= 2]\n",
    "    "
   ]
  },
  {
   "cell_type": "code",
   "execution_count": 42,
   "metadata": {},
   "outputs": [
    {
     "name": "stdout",
     "output_type": "stream",
     "text": [
      "[False  True False  True False]\n",
      "[2 4]\n"
     ]
    }
   ],
   "source": [
    "if True:\n",
    "    a = np.array([1, 2, 3, 4, 5])\n",
    "    b = np.array([1, 2, 3, 2, 1])\n",
    "    \n",
    "    print b == 2\n",
    "    print a[b == 2]#b==2 是指b中值为2的下标，然后再根据下标取a里的值\n"
   ]
  },
  {
   "cell_type": "code",
   "execution_count": 43,
   "metadata": {},
   "outputs": [],
   "source": [
    "# Time spent in the classroom in the first week for 20 students\n",
    "time_spent = np.array([\n",
    "       12.89697233,    0.        ,   64.55043217,    0.        ,\n",
    "       24.2315615 ,   39.991625  ,    0.        ,    0.        ,\n",
    "      147.20683783,    0.        ,    0.        ,    0.        ,\n",
    "       45.18261617,  157.60454283,  133.2434615 ,   52.85000767,\n",
    "        0.        ,   54.9204785 ,   26.78142417,    0.\n",
    "])\n",
    "\n",
    "# Days to cancel for 20 students\n",
    "days_to_cancel = np.array([\n",
    "      4,   5,  37,   3,  12,   4,  35,  38,   5,  37,   3,   3,  68,\n",
    "     38,  98,   2, 249,   2, 127,  35\n",
    "])"
   ]
  },
  {
   "cell_type": "code",
   "execution_count": 44,
   "metadata": {},
   "outputs": [
    {
     "name": "stdout",
     "output_type": "stream",
     "text": [
      "41.05400348545454\n"
     ]
    }
   ],
   "source": [
    "def mean_time_for_paid_students(time_spent, days_to_cancel):\n",
    "    '''\n",
    "    Fill in this function to calculate the mean time spent in the classroom\n",
    "    for students who stayed enrolled at least (greater than or equal to) 7 days.\n",
    "    Unlike in Lesson 1, you can assume that days_to_cancel will contain only\n",
    "    integers (there are no students who have not canceled yet).\n",
    "    \n",
    "    The arguments are NumPy arrays. time_spent contains the amount of time spent\n",
    "    in the classroom for each student, and days_to_cancel contains the number\n",
    "    of days until each student cancel. The data is given in the same order\n",
    "    in both arrays.\n",
    "    '''\n",
    "#     return np.mean(time_spent[days_to_cancel >= 7])\n",
    "    return time_spent[days_to_cancel >= 7].mean()\n",
    "print mean_time_for_paid_students(time_spent, days_to_cancel)"
   ]
  },
  {
   "cell_type": "code",
   "execution_count": 45,
   "metadata": {},
   "outputs": [],
   "source": [
    "countries = ['Albania', 'Algeria', 'Andorra', 'Angola', 'Antigua and Barbuda',\n",
    "             'Argentina', 'Armenia', 'Australia', 'Austria', 'Azerbaijan',\n",
    "             'Bahamas', 'Bahrain', 'Bangladesh', 'Barbados', 'Belarus',\n",
    "             'Belgium', 'Belize', 'Benin', 'Bhutan', 'Bolivia']\n",
    "\n",
    "life_expectancy_values = [74.7,  75. ,  83.4,  57.6,  74.6,  75.4,  72.3,  81.5,  80.2,\n",
    "                          70.3,  72.1,  76.4,  68.1,  75.2,  69.8,  79.4,  70.8,  62.7,\n",
    "                          67.3,  70.6]\n",
    "\n",
    "gdp_values = [ 1681.61390973,   2155.48523109,  21495.80508273,    562.98768478,\n",
    "              13495.1274663 ,   9388.68852258,   1424.19056199,  24765.54890176,\n",
    "              27036.48733192,   1945.63754911,  21721.61840978,  13373.21993972,\n",
    "                483.97086804,   9783.98417323,   2253.46411147,  25034.66692293,\n",
    "               3680.91642923,    366.04496652,   1175.92638695,   1132.21387981]\n"
   ]
  },
  {
   "cell_type": "code",
   "execution_count": 46,
   "metadata": {},
   "outputs": [],
   "source": [
    "import pandas as pd\n",
    "#转化为pandas 数组\n",
    "life_expectancy = pd.Series(life_expectancy_values)\n",
    "gdp = pd.Series(gdp_values)"
   ]
  },
  {
   "cell_type": "code",
   "execution_count": 47,
   "metadata": {},
   "outputs": [
    {
     "name": "stdout",
     "output_type": "stream",
     "text": [
      "74.7\n",
      "3      562.987685\n",
      "4    13495.127466\n",
      "5     9388.688523\n",
      "dtype: float64\n"
     ]
    }
   ],
   "source": [
    "# Accessing elements and slicing\n",
    "if True:\n",
    "    print life_expectancy[0]\n",
    "    print gdp[3:6]"
   ]
  },
  {
   "cell_type": "code",
   "execution_count": 48,
   "metadata": {},
   "outputs": [],
   "source": [
    "# Looping\n",
    "if False:\n",
    "    for country_life_expectancy in life_expectancy:\n",
    "        print 'Examining life expectancy {}'.format(country_life_expectancy)"
   ]
  },
  {
   "cell_type": "code",
   "execution_count": 49,
   "metadata": {},
   "outputs": [
    {
     "name": "stdout",
     "output_type": "stream",
     "text": [
      "72.86999999999999\n",
      "6.213999474869968\n",
      "27036.48733192\n",
      "182957.59832967006\n"
     ]
    }
   ],
   "source": [
    "# Pandas functions\n",
    "if True:\n",
    "    print life_expectancy.mean()\n",
    "    print life_expectancy.std()\n",
    "    print gdp.max()\n",
    "    print gdp.sum()"
   ]
  },
  {
   "cell_type": "code",
   "execution_count": 50,
   "metadata": {},
   "outputs": [],
   "source": [
    "# Vectorized operations and index arrays\n",
    "if False:\n",
    "    a = pd.Series([1, 2, 3, 4])\n",
    "    b = pd.Series([1, 2, 1, 2])\n",
    "  \n",
    "    print a + b\n",
    "    print a * 2\n",
    "    print a >= 3\n",
    "    print a[a >= 3]"
   ]
  },
  {
   "cell_type": "code",
   "execution_count": 51,
   "metadata": {},
   "outputs": [],
   "source": [
    "def variable_correlation(variable1, variable2):\n",
    "    '''\n",
    "    Fill in this function to calculate the number of data points for which\n",
    "    the directions of variable1 and variable2 relative to the mean are the\n",
    "    same, and the number of data points for which they are different.\n",
    "    Direction here means whether each value is above or below its mean.\n",
    "    \n",
    "    You can classify cases where the value is equal to the mean for one or\n",
    "    both variables however you like.\n",
    "    \n",
    "    Each argument will be a Pandas series.\n",
    "    \n",
    "    For example, if the inputs were pd.Series([1, 2, 3, 4]) and\n",
    "    pd.Series([4, 5, 6, 7]), then the output would be (4, 0).\n",
    "    This is because 1 and 4 are both below their means, 2 and 5 are both\n",
    "    below, 3 and 6 are both above, and 4 and 7 are both above.\n",
    "    \n",
    "    On the other hand, if the inputs were pd.Series([1, 2, 3, 4]) and\n",
    "    pd.Series([7, 6, 5, 4]), then the output would be (0, 4).\n",
    "    This is because 1 is below its mean but 7 is above its mean, and\n",
    "    so on.\n",
    "    '''\n",
    "    num_same_direction = 0        # Replace this with your code\n",
    "    num_different_direction = 0   # Replace this with your code\n",
    "    var1_mean = variable1.mean()\n",
    "    var2_mean = variable2.mean()\n",
    "    \n",
    "    for index in range(len(variable1)):\n",
    "        if ((variable1[index] > var1_mean and variable2[index] > var2_mean) or\n",
    "        (variable1[index] < var1_mean and variable2[index] < var2_mean)):\n",
    "            num_same_direction += 1\n",
    "        else:\n",
    "            num_different_direction += 1\n",
    "    \n",
    "    return (num_same_direction, num_different_direction)"
   ]
  },
  {
   "cell_type": "code",
   "execution_count": 52,
   "metadata": {},
   "outputs": [
    {
     "name": "stdout",
     "output_type": "stream",
     "text": [
      "(17, 3)\n"
     ]
    }
   ],
   "source": [
    "print variable_correlation(life_expectancy, gdp)"
   ]
  },
  {
   "cell_type": "code",
   "execution_count": 53,
   "metadata": {},
   "outputs": [],
   "source": [
    "#课程中教的方法，明显看起来要高端许多\n",
    "def variable_correlation_from_lesson(variable1, variable2):\n",
    "    #得到两个布尔型的数组\n",
    "    both_above = (variable1 > variable1.mean()) & (variable2 > variable2.mean()) \n",
    "    both_below = (variable1 < variable1.mean()) & (variable2 < variable2.mean())\n",
    "#     print both_above,both_below\n",
    "    #对这两个进行或处理，可以true说明上面至少一个满足，False表示上面一个都没满足\n",
    "    is_same_direction = both_above | both_below\n",
    "#     print is_same_direction\n",
    "    num_same_direction  = is_same_direction.sum()#求和，true其实是1，False其实是0\n",
    "    num_different_direction = len(variable1) - num_same_direction\n",
    "    \n",
    "    return (num_same_direction, num_different_direction)\n"
   ]
  },
  {
   "cell_type": "code",
   "execution_count": 54,
   "metadata": {},
   "outputs": [
    {
     "name": "stdout",
     "output_type": "stream",
     "text": [
      "(17, 3)\n"
     ]
    }
   ],
   "source": [
    "print variable_correlation_from_lesson(life_expectancy, gdp)"
   ]
  },
  {
   "cell_type": "code",
   "execution_count": 55,
   "metadata": {},
   "outputs": [],
   "source": [
    "import pandas as pd\n",
    "\n",
    "countries = [\n",
    "    'Afghanistan', 'Albania', 'Algeria', 'Angola',\n",
    "    'Argentina', 'Armenia', 'Australia', 'Austria',\n",
    "    'Azerbaijan', 'Bahamas', 'Bahrain', 'Bangladesh',\n",
    "    'Barbados', 'Belarus', 'Belgium', 'Belize',\n",
    "    'Benin', 'Bhutan', 'Bolivia', 'Bosnia and Herzegovina',\n",
    "]\n",
    "\n",
    "\n",
    "employment_values = [\n",
    "    55.70000076,  51.40000153,  50.5       ,  75.69999695,\n",
    "    58.40000153,  40.09999847,  61.5       ,  57.09999847,\n",
    "    60.90000153,  66.59999847,  60.40000153,  68.09999847,\n",
    "    66.90000153,  53.40000153,  48.59999847,  56.79999924,\n",
    "    71.59999847,  58.40000153,  70.40000153,  41.20000076,\n",
    "]"
   ]
  },
  {
   "cell_type": "code",
   "execution_count": 57,
   "metadata": {},
   "outputs": [
    {
     "name": "stdout",
     "output_type": "stream",
     "text": [
      "Afghanistan               55.700001\n",
      "Albania                   51.400002\n",
      "Algeria                   50.500000\n",
      "Angola                    75.699997\n",
      "Argentina                 58.400002\n",
      "Armenia                   40.099998\n",
      "Australia                 61.500000\n",
      "Austria                   57.099998\n",
      "Azerbaijan                60.900002\n",
      "Bahamas                   66.599998\n",
      "Bahrain                   60.400002\n",
      "Bangladesh                68.099998\n",
      "Barbados                  66.900002\n",
      "Belarus                   53.400002\n",
      "Belgium                   48.599998\n",
      "Belize                    56.799999\n",
      "Benin                     71.599998\n",
      "Bhutan                    58.400002\n",
      "Bolivia                   70.400002\n",
      "Bosnia and Herzegovina    41.200001\n",
      "dtype: float64\n",
      "75.69999695\n"
     ]
    }
   ],
   "source": [
    "# Employment data in 2007 for 20 countries\n",
    "employment = pd.Series(employment_values, index=countries) #所以这里是以国家作为就业率的索引了\n",
    "print employment\n",
    "print employment.max()"
   ]
  },
  {
   "cell_type": "code",
   "execution_count": 93,
   "metadata": {},
   "outputs": [],
   "source": [
    "#获取最高就业率的国家\n",
    "def max_employment(employment):\n",
    "    '''\n",
    "    Fill in this function to return the name of the country\n",
    "    with the highest employment in the given employment\n",
    "    data, and the employment in that country.\n",
    "    \n",
    "    The input will be a Pandas series where the values\n",
    "    are employment and the index is country names.\n",
    "    \n",
    "    Try using the Pandas idxmax() function. Documention can\n",
    "    be found here:\n",
    "    http://pandas.pydata.org/pandas-docs/stable/generated/pandas.Series.idxmax.html\n",
    "    '''\n",
    "    #这是我的方法\n",
    "    max_country = employment.argmax(employment.max())      # 获取最大值的索引，也就是上面设置的国家index\n",
    "    max_value = employment.max()   # 获取最大值\n",
    "    \n",
    "    #课程提供的方法,但是会报错，这课程是太老了吧\n",
    "#     max_country = employment.argmax()      \n",
    "#     max_value = employment.iloc(max_country)\n",
    "\n",
    "    return (max_country, max_value)"
   ]
  },
  {
   "cell_type": "code",
   "execution_count": 94,
   "metadata": {},
   "outputs": [
    {
     "name": "stdout",
     "output_type": "stream",
     "text": [
      "('Angola', 75.69999695)\n"
     ]
    },
    {
     "name": "stderr",
     "output_type": "stream",
     "text": [
      "D:\\Anaconda2\\envs\\py2_env\\lib\\site-packages\\ipykernel_launcher.py:16: FutureWarning: 'argmax' is deprecated, use 'idxmax' instead. The behavior of 'argmax'\n",
      "will be corrected to return the positional maximum in the future.\n",
      "Use 'series.values.argmax' to get the position of the maximum now.\n",
      "  app.launch_new_instance()\n"
     ]
    }
   ],
   "source": [
    "print max_employment(employment)"
   ]
  },
  {
   "cell_type": "code",
   "execution_count": 72,
   "metadata": {},
   "outputs": [
    {
     "name": "stdout",
     "output_type": "stream",
     "text": [
      "a    11\n",
      "b    22\n",
      "c    33\n",
      "d    44\n",
      "dtype: int64\n"
     ]
    }
   ],
   "source": [
    "# Addition when indexes are the same\n",
    "if True:\n",
    "    s1 = pd.Series([1, 2, 3, 4], index=['a', 'b', 'c', 'd'])\n",
    "    s2 = pd.Series([10, 20, 30, 40], index=['a', 'b', 'c', 'd'])\n",
    "    #根据下标进行了元素相加\n",
    "    print s1 + s2"
   ]
  },
  {
   "cell_type": "code",
   "execution_count": 73,
   "metadata": {},
   "outputs": [
    {
     "name": "stdout",
     "output_type": "stream",
     "text": [
      "a    31\n",
      "b    12\n",
      "c    43\n",
      "d    24\n",
      "dtype: int64\n"
     ]
    }
   ],
   "source": [
    "# Indexes have same elements in a different order\n",
    "if True:\n",
    "    s1 = pd.Series([1, 2, 3, 4], index=['a', 'b', 'c', 'd'])\n",
    "    s2 = pd.Series([10, 20, 30, 40], index=['b', 'd', 'a', 'c'])\n",
    "    #依然是按下标来，第一个中a=1,b=2,第二个列表中a=30,b=10所以最后以a,b,c,d的运算为准\n",
    "    print s1 + s2"
   ]
  },
  {
   "cell_type": "code",
   "execution_count": 74,
   "metadata": {},
   "outputs": [
    {
     "name": "stdout",
     "output_type": "stream",
     "text": [
      "a     NaN\n",
      "b     NaN\n",
      "c    13.0\n",
      "d    24.0\n",
      "e     NaN\n",
      "f     NaN\n",
      "dtype: float64\n"
     ]
    }
   ],
   "source": [
    "# Indexes overlap, but do not have exactly the same elements\n",
    "if True:\n",
    "    s1 = pd.Series([1, 2, 3, 4], index=['a', 'b', 'c', 'd'])\n",
    "    s2 = pd.Series([10, 20, 30, 40], index=['c', 'd', 'e', 'f'])\n",
    "    #第一个列表与第二个列表中索引不一致时，仍会组成所有index组成的列表，但是如果某元素缺失，则运算不成立\n",
    "    print s1 + s2"
   ]
  },
  {
   "cell_type": "code",
   "execution_count": 76,
   "metadata": {},
   "outputs": [
    {
     "name": "stdout",
     "output_type": "stream",
     "text": [
      "a   NaN\n",
      "b   NaN\n",
      "c   NaN\n",
      "d   NaN\n",
      "e   NaN\n",
      "f   NaN\n",
      "g   NaN\n",
      "h   NaN\n",
      "dtype: float64\n"
     ]
    }
   ],
   "source": [
    "# Indexes do not overlap\n",
    "if True:\n",
    "    s1 = pd.Series([1, 2, 3, 4], index=['a', 'b', 'c', 'd'])\n",
    "    s2 = pd.Series([10, 20, 30, 40], index=['e', 'f', 'g', 'h'])\n",
    "    #完全不一样时，相加只会组合，但是运算不进行\n",
    "    print s1 + s2"
   ]
  },
  {
   "cell_type": "code",
   "execution_count": 83,
   "metadata": {},
   "outputs": [
    {
     "name": "stdout",
     "output_type": "stream",
     "text": [
      "a     1.0\n",
      "b     2.0\n",
      "c    13.0\n",
      "d    24.0\n",
      "e    30.0\n",
      "f    40.0\n",
      "dtype: float64\n"
     ]
    }
   ],
   "source": [
    "#补全缺失值\n",
    "s1 = pd.Series([1, 2, 3, 4], index=['a', 'b', 'c', 'd'])\n",
    "s2 = pd.Series([10, 20, 30, 40], index=['c', 'd', 'e', 'f'])\n",
    "sum_series = s1.add(s2, fill_value = 0)\n",
    "# sum_series = s1.add(s2)\n",
    "print sum_series"
   ]
  },
  {
   "cell_type": "code",
   "execution_count": 84,
   "metadata": {},
   "outputs": [
    {
     "name": "stdout",
     "output_type": "stream",
     "text": [
      "0    2\n",
      "1    3\n",
      "2    4\n",
      "3    5\n",
      "4    6\n",
      "dtype: int64\n"
     ]
    }
   ],
   "source": [
    "if True:\n",
    "    s = pd.Series([1, 2, 3, 4, 5])\n",
    "    def add_one(x):\n",
    "        return x + 1\n",
    "    print s.apply(add_one)#给它弄个函数来搞"
   ]
  },
  {
   "cell_type": "code",
   "execution_count": 85,
   "metadata": {},
   "outputs": [],
   "source": [
    "names = pd.Series([\n",
    "    'Andre Agassi',\n",
    "    'Barry Bonds',\n",
    "    'Christopher Columbus',\n",
    "    'Daniel Defoe',\n",
    "    'Emilio Estevez',\n",
    "    'Fred Flintstone',\n",
    "    'Greta Garbo',\n",
    "    'Humbert Humbert',\n",
    "    'Ivan Ilych',\n",
    "    'James Joyce',\n",
    "    'Keira Knightley',\n",
    "    'Lois Lane',\n",
    "    'Mike Myers',\n",
    "    'Nick Nolte',\n",
    "    'Ozzy Osbourne',\n",
    "    'Pablo Picasso',\n",
    "    'Quirinus Quirrell',\n",
    "    'Rachael Ray',\n",
    "    'Susan Sarandon',\n",
    "    'Tina Turner',\n",
    "    'Ugueth Urbina',\n",
    "    'Vince Vaughn',\n",
    "    'Woodrow Wilson',\n",
    "    'Yoji Yamada',\n",
    "    'Zinedine Zidane'\n",
    "])"
   ]
  },
  {
   "cell_type": "code",
   "execution_count": 89,
   "metadata": {},
   "outputs": [],
   "source": [
    "def reverse_names(name):\n",
    "    '''\n",
    "    Fill in this function to return a new series where each name\n",
    "    in the input series has been transformed from the format\n",
    "    \"Firstname Lastname\" to \"Lastname, FirstName\".\n",
    "    \n",
    "    Try to use the Pandas apply() function rather than a loop.\n",
    "    '''\n",
    "    #翻转名姓\n",
    "    listSplit = name.split(\" \")\n",
    "    return listSplit[1] + \" \" + listSplit[0]"
   ]
  },
  {
   "cell_type": "code",
   "execution_count": 96,
   "metadata": {},
   "outputs": [
    {
     "name": "stdout",
     "output_type": "stream",
     "text": [
      "Agassi Andre\n"
     ]
    }
   ],
   "source": [
    "print reverse_names(names.iloc[0])"
   ]
  },
  {
   "cell_type": "code",
   "execution_count": 97,
   "metadata": {},
   "outputs": [
    {
     "name": "stdout",
     "output_type": "stream",
     "text": [
      "0             Agassi Andre\n",
      "1              Bonds Barry\n",
      "2     Columbus Christopher\n",
      "3             Defoe Daniel\n",
      "4           Estevez Emilio\n",
      "5          Flintstone Fred\n",
      "6              Garbo Greta\n",
      "7          Humbert Humbert\n",
      "8               Ilych Ivan\n",
      "9              Joyce James\n",
      "10         Knightley Keira\n",
      "11               Lane Lois\n",
      "12              Myers Mike\n",
      "13              Nolte Nick\n",
      "14           Osbourne Ozzy\n",
      "15           Picasso Pablo\n",
      "16       Quirrell Quirinus\n",
      "17             Ray Rachael\n",
      "18          Sarandon Susan\n",
      "19             Turner Tina\n",
      "20           Urbina Ugueth\n",
      "21            Vaughn Vince\n",
      "22          Wilson Woodrow\n",
      "23             Yamada Yoji\n",
      "24         Zidane Zinedine\n",
      "dtype: object\n"
     ]
    }
   ],
   "source": [
    "#应用这个函数\n",
    "print names.apply(reverse_names)"
   ]
  },
  {
   "cell_type": "code",
   "execution_count": 100,
   "metadata": {},
   "outputs": [],
   "source": [
    "import seaborn as sns\n",
    "\n",
    "path = 'data/'\n",
    "employment = pd.read_csv(path + 'employment_above_15.csv', index_col='Country')\n",
    "female_completion = pd.read_csv(path + 'female_completion_rate.csv', index_col='Country')\n",
    "male_completion = pd.read_csv(path + 'male_completion_rate.csv', index_col='Country')\n",
    "life_expectancy = pd.read_csv(path + 'life_expectancy.csv', index_col='Country')\n",
    "gdp = pd.read_csv(path + 'gdp_per_capita.csv', index_col='Country')\n",
    "\n",
    "# The following code creates a Pandas Series for each variable for the United States.\n",
    "# You can change the string 'United States' to a country of your choice.\n",
    "\n",
    "employment_us = employment.loc['United States']\n",
    "female_completion_us = female_completion.loc['United States']\n",
    "male_completion_us = male_completion.loc['United States']\n",
    "life_expectancy_us = life_expectancy.loc['United States']\n",
    "gdp_us = gdp.loc['United States']"
   ]
  },
  {
   "cell_type": "code",
   "execution_count": 109,
   "metadata": {},
   "outputs": [
    {
     "name": "stdout",
     "output_type": "stream",
     "text": [
      "                             1991       1992       1993       1994       1995  \\\n",
      "Country                                                                         \n",
      "Afghanistan             56.700001  56.500000  56.599998  56.200001  56.200001   \n",
      "Albania                 52.700001  52.299999  52.400002  52.700001  52.799999   \n",
      "Algeria                 39.400002  38.900002  39.400002  39.400002  38.099998   \n",
      "Angola                  75.800003  75.800003  75.500000  75.900002  75.800003   \n",
      "Argentina               53.599998  53.799999  53.700001  53.799999  53.500000   \n",
      "Armenia                 39.299999  38.200001  37.400002  37.400002  37.099998   \n",
      "Australia               57.200001  56.200001  55.900002  56.900002  58.400002   \n",
      "Austria                 54.200001  54.900002  54.700001  56.400002  56.700001   \n",
      "Azerbaijan              56.900002  56.799999  56.599998  56.200001  55.400002   \n",
      "Bahamas                 63.000000  61.299999  62.799999  62.700001  64.500000   \n",
      "Bahrain                 61.200001  61.400002  61.500000  61.799999  61.900002   \n",
      "Bangladesh              74.500000  72.500000  73.000000  71.800003  70.500000   \n",
      "Barbados                56.900002  53.700001  52.500000  54.900002  58.000000   \n",
      "Belarus                 59.200001  58.299999  57.400002  56.599998  55.700001   \n",
      "Belgium                 45.700001  46.099998  45.500000  45.299999  45.599998   \n",
      "Belize                  47.599998  49.200001  51.299999  52.299999  51.700001   \n",
      "Benin                   70.599998  72.099998  72.300003  72.500000  72.599998   \n",
      "Bhutan                  53.700001  52.500000  52.000000  51.000000  50.299999   \n",
      "Bolivia                 61.500000  61.000000  61.000000  60.900002  60.700001   \n",
      "Bosnia and Herzegovina  51.599998  50.099998  48.000000  47.599998  47.700001   \n",
      "Botswana                48.900002  48.000000  47.000000  45.299999  44.000000   \n",
      "Brazil                  56.099998  59.500000  60.099998  60.599998  61.099998   \n",
      "Brunei                  62.599998  62.799999  62.900002  63.099998  63.299999   \n",
      "Bulgaria                46.400002  48.900002  44.299999  44.200001  45.599998   \n",
      "Burkina Faso            80.699997  80.699997  80.699997  80.800003  80.900002   \n",
      "Burundi                 84.199997  84.300003  84.500000  84.699997  84.800003   \n",
      "Cambodia                78.000000  78.000000  78.300003  78.400002  77.599998   \n",
      "Cameroon                59.400002  59.299999  59.200001  59.099998  59.000000   \n",
      "Canada                  59.400002  58.000000  57.599998  58.000000  58.299999   \n",
      "Cape Verde              56.500000  56.599998  56.799999  56.700001  56.700001   \n",
      "...                           ...        ...        ...        ...        ...   \n",
      "Sri Lanka               52.000000  50.700001  49.700001  50.599998  49.500000   \n",
      "Sudan                   46.200001  45.900002  45.799999  46.400002  46.900002   \n",
      "Suriname                44.599998  42.599998  42.799999  43.200001  45.200001   \n",
      "Swaziland               54.200001  54.299999  54.299999  54.299999  55.900002   \n",
      "Sweden                  64.900002  61.799999  58.000000  57.200001  57.799999   \n",
      "Switzerland             67.699997  67.099998  66.500000  65.599998  65.699997   \n",
      "Syria                   46.799999  47.200001  47.599998  48.200001  48.900002   \n",
      "Taiwan                  56.900002  56.599998  56.900002  56.599998  56.200001   \n",
      "Tajikistan              54.299999  52.299999  50.500000  47.599998  45.700001   \n",
      "Tanzania                87.500000  87.199997  87.000000  86.699997  86.500000   \n",
      "Thailand                77.699997  77.099998  75.300003  73.699997  74.300003   \n",
      "Macedonia, FYR          37.599998  36.900002  35.900002  36.299999  36.400002   \n",
      "Togo                    65.199997  65.000000  64.500000  65.000000  64.900002   \n",
      "Trinidad and Tobago     45.000000  45.799999  46.700001  48.500000  49.900002   \n",
      "Tunisia                 40.700001  40.700001  40.700001  41.000000  41.000000   \n",
      "Turkey                  53.000000  52.000000  48.299999  50.799999  50.799999   \n",
      "Turkmenistan            56.099998  56.400002  56.700001  56.900002  56.900002   \n",
      "Uganda                  85.000000  84.800003  84.199997  83.400002  83.599998   \n",
      "Ukraine                 58.500000  57.799999  58.099998  58.400002  58.400002   \n",
      "United Arab Emirates    71.300003  71.599998  71.900002  72.599998  73.199997   \n",
      "United Kingdom          57.900002  56.500000  55.599998  55.900002  56.400002   \n",
      "United States           61.299999  61.099998  61.400002  62.200001  62.599998   \n",
      "Uruguay                 54.000000  55.299999  54.000000  55.299999  55.900002   \n",
      "Uzbekistan              54.500000  53.299999  52.900002  52.400002  52.200001   \n",
      "Venezuela               51.599998  52.799999  53.900002  53.299999  53.000000   \n",
      "Vietnam                 75.599998  75.599998  75.000000  75.500000  75.400002   \n",
      "West Bank and Gaza      29.299999  29.799999  30.400000  26.799999  32.599998   \n",
      "Yemen, Rep.             38.299999  38.200001  38.000000  39.400002  39.200001   \n",
      "Zambia                  57.000000  56.599998  56.200001  56.700001  57.299999   \n",
      "Zimbabwe                70.199997  69.800003  69.400002  70.599998  70.099998   \n",
      "\n",
      "                             1996       1997       1998       1999       2000  \\\n",
      "Country                                                                         \n",
      "Afghanistan             56.099998  56.200001  56.200001  56.099998  56.099998   \n",
      "Albania                 52.599998  52.400002  52.099998  52.099998  51.900002   \n",
      "Algeria                 38.900002  39.700001  39.500000  39.400002  38.599998   \n",
      "Angola                  75.900002  75.699997  75.599998  75.599998  75.500000   \n",
      "Argentina               54.400002  54.900002  55.000000  54.900002  55.500000   \n",
      "Armenia                 38.099998  37.400002  38.099998  37.200001  37.799999   \n",
      "Australia               58.200001  57.900002  58.299999  58.700001  59.400002   \n",
      "Austria                 55.799999  55.799999  55.599998  56.000000  56.099998   \n",
      "Azerbaijan              55.799999  56.599998  56.700001  57.000000  57.400002   \n",
      "Bahamas                 64.099998  65.199997  66.599998  66.699997  67.000000   \n",
      "Bahrain                 61.900002  61.599998  61.599998  61.599998  61.599998   \n",
      "Bangladesh              70.400002  69.900002  69.900002  69.300003  68.900002   \n",
      "Barbados                61.200001  61.400002  63.099998  64.400002  65.300003   \n",
      "Belarus                 55.200001  55.099998  54.000000  52.799999  53.000000   \n",
      "Belgium                 45.500000  45.799999  45.900002  47.299999  48.700001   \n",
      "Belize                  51.099998  52.099998  51.500000  52.700001  54.200001   \n",
      "Benin                   72.599998  72.500000  72.300003  72.199997  72.099998   \n",
      "Bhutan                  50.200001  50.099998  50.200001  50.400002  51.400002   \n",
      "Bolivia                 61.799999  67.599998  67.699997  67.699997  67.300003   \n",
      "Bosnia and Herzegovina  47.900002  47.000000  46.099998  45.299999  44.400002   \n",
      "Botswana                42.799999  45.700001  48.200001  48.900002  49.500000   \n",
      "Brazil                  60.400002  60.700001  60.500000  60.700001  61.200001   \n",
      "Brunei                  63.500000  63.700001  64.000000  64.300003  64.400002   \n",
      "Bulgaria                45.700001  44.599998  44.200001  42.000000  39.299999   \n",
      "Burkina Faso            81.000000  81.000000  81.099998  81.099998  81.099998   \n",
      "Burundi                 84.800003  84.900002  84.800003  84.699997  84.500000   \n",
      "Cambodia                76.599998  76.400002  77.300003  77.400002  77.599998   \n",
      "Cameroon                59.900002  60.000000  60.099998  60.099998  60.200001   \n",
      "Canada                  58.000000  58.500000  59.299999  60.200001  60.799999   \n",
      "Cape Verde              56.500000  56.299999  56.099998  55.900002  55.700001   \n",
      "...                           ...        ...        ...        ...        ...   \n",
      "Sri Lanka               50.500000  51.000000  55.000000  53.400002  53.700001   \n",
      "Sudan                   47.200001  47.400002  47.200001  47.099998  47.200001   \n",
      "Suriname                44.299999  44.599998  44.500000  43.099998  43.200001   \n",
      "Swaziland               55.200001  54.700001  54.299999  54.000000  53.599998   \n",
      "Sweden                  57.099998  56.400002  57.200001  58.299999  59.900002   \n",
      "Switzerland             65.699997  65.199997  66.000000  66.300003  66.099998   \n",
      "Syria                   45.099998  40.900002  43.099998  45.900002  48.200001   \n",
      "Taiwan                  55.500000  55.299999  55.000000  54.700001  54.200001   \n",
      "Tajikistan              42.700001  42.900002  43.799999  44.299999  45.400002   \n",
      "Tanzania                86.000000  86.099998  85.900002  85.699997  85.099998   \n",
      "Thailand                74.599998  74.699997  72.000000  71.199997  71.900002   \n",
      "Macedonia, FYR          35.099998  34.500000  35.099998  35.799999  35.900002   \n",
      "Togo                    64.800003  64.800003  64.599998  64.500000  64.400002   \n",
      "Trinidad and Tobago     51.299999  52.200001  52.799999  53.500000  54.000000   \n",
      "Tunisia                 40.900002  40.900002  40.700001  40.700001  40.700001   \n",
      "Turkey                  50.900002  49.700001  49.799999  49.200001  47.200001   \n",
      "Turkmenistan            56.200001  55.299999  57.599998  59.000000  59.400002   \n",
      "Uganda                  83.800003  84.000000  84.699997  84.400002  83.900002   \n",
      "Ukraine                 58.099998  58.099998  57.400002  49.599998  50.099998   \n",
      "United Arab Emirates    73.000000  72.900002  73.699997  73.900002  74.500000   \n",
      "United Kingdom          56.799999  57.599998  57.900002  58.400002  58.900002   \n",
      "United States           62.900002  63.400002  63.799999  64.000000  64.199997   \n",
      "Uruguay                 55.700001  55.700001  55.799999  56.000000  56.200001   \n",
      "Uzbekistan              52.500000  53.099998  53.599998  53.900002  54.200001   \n",
      "Venezuela               52.299999  53.700001  54.099998  52.700001  54.000000   \n",
      "Vietnam                 75.400002  73.400002  73.400002  73.300003  72.000000   \n",
      "West Bank and Gaza      29.500000  31.000000  33.400002  34.599998  33.599998   \n",
      "Yemen, Rep.             38.799999  39.099998  39.299999  38.200001  38.299999   \n",
      "Zambia                  59.000000  60.099998  61.299999  61.000000  60.700001   \n",
      "Zimbabwe                69.699997  68.900002  68.099998  67.300003  67.599998   \n",
      "\n",
      "                             2001       2002       2003       2004       2005  \\\n",
      "Country                                                                         \n",
      "Afghanistan             56.500000  56.400002  54.400002  56.000000  54.000000   \n",
      "Albania                 51.799999  51.799999  51.799999  51.700001  51.500000   \n",
      "Algeria                 40.400002  41.500000  42.799999  46.400002  48.000000   \n",
      "Angola                  75.500000  75.599998  75.500000  75.500000  75.599998   \n",
      "Argentina               55.599998  55.400002  57.299999  57.700001  58.099998   \n",
      "Armenia                 38.599998  39.299999  39.500000  38.900002  39.500000   \n",
      "Australia               59.200001  59.500000  59.900002  60.099998  61.200001   \n",
      "Austria                 56.099998  56.500000  56.700001  55.700001  56.200001   \n",
      "Azerbaijan              57.500000  57.500000  57.900002  59.400002  59.000000   \n",
      "Bahamas                 67.099998  65.599998  64.400002  64.900002  65.000000   \n",
      "Bahrain                 61.700001  61.500000  61.400002  61.200001  61.000000   \n",
      "Bangladesh              68.900002  68.900002  68.500000  68.300003  68.599998   \n",
      "Barbados                65.000000  64.599998  64.099998  65.599998  66.099998   \n",
      "Belarus                 53.000000  53.099998  53.299999  53.599998  53.700001   \n",
      "Belgium                 47.599998  47.500000  47.200001  48.099998  48.500000   \n",
      "Belize                  55.799999  55.599998  55.900002  56.099998  56.099998   \n",
      "Benin                   72.000000  72.000000  71.900002  71.800003  71.699997   \n",
      "Bhutan                  52.700001  53.599998  55.900002  57.400002  59.099998   \n",
      "Bolivia                 67.300003  67.800003  68.300003  68.900002  69.400002   \n",
      "Bosnia and Herzegovina  45.099998  44.200001  44.700001  43.099998  44.200001   \n",
      "Botswana                45.700001  44.000000  42.400002  40.200001  37.799999   \n",
      "Brazil                  61.500000  62.400002  62.000000  63.299999  63.200001   \n",
      "Brunei                  64.599998  64.500000  64.300003  64.199997  64.099998   \n",
      "Bulgaria                41.099998  41.799999  42.900002  44.299999  45.400002   \n",
      "Burkina Faso            81.199997  81.199997  81.199997  81.199997  81.199997   \n",
      "Burundi                 84.300003  84.000000  83.599998  83.400002  83.199997   \n",
      "Cambodia                79.800003  79.599998  79.300003  79.099998  78.900002   \n",
      "Cameroon                60.099998  60.000000  59.900002  59.900002  59.799999   \n",
      "Canada                  60.700001  61.299999  62.000000  62.200001  62.200001   \n",
      "Cape Verde              55.500000  55.299999  55.299999  55.299999  55.400002   \n",
      "...                           ...        ...        ...        ...        ...   \n",
      "Sri Lanka               53.400002  53.099998  53.099998  53.400002  53.500000   \n",
      "Sudan                   47.099998  47.099998  47.000000  47.000000  46.900002   \n",
      "Suriname                43.700001  43.500000  44.000000  44.299999  44.400002   \n",
      "Swaziland               53.099998  52.599998  52.200001  51.799999  51.400002   \n",
      "Sweden                  60.599998  60.400002  60.000000  59.200001  59.700001   \n",
      "Switzerland             66.599998  66.099998  65.300003  64.500000  64.099998   \n",
      "Syria                   45.799999  47.200001  43.799999  44.200001  44.500000   \n",
      "Taiwan                  53.500000  53.299999  53.700001  54.000000  54.299999   \n",
      "Tajikistan              47.400002  48.000000  49.400002  50.099998  50.500000   \n",
      "Tanzania                84.300003  83.300003  82.300003  81.000000  79.400002   \n",
      "Thailand                71.900002  72.300003  72.300003  72.400002  72.599998   \n",
      "Macedonia, FYR          37.299999  36.200001  33.900002  32.299999  33.200001   \n",
      "Togo                    64.199997  64.199997  64.199997  64.099998  64.000000   \n",
      "Trinidad and Tobago     54.900002  55.200001  56.200001  58.599998  60.000000   \n",
      "Tunisia                 40.900002  40.799999  41.099998  41.200001  41.200001   \n",
      "Turkey                  46.000000  44.799999  43.500000  44.000000  43.700001   \n",
      "Turkmenistan            59.500000  59.099998  59.099998  58.700001  58.400002   \n",
      "Uganda                  84.099998  83.599998  83.199997  83.199997  83.099998   \n",
      "Ukraine                 50.900002  51.700001  51.799999  52.200001  53.599998   \n",
      "United Arab Emirates    74.900002  75.300003  75.500000  75.400002  75.199997   \n",
      "United Kingdom          59.000000  59.000000  59.299999  59.400002  59.400002   \n",
      "United States           63.299999  62.299999  61.799999  61.799999  62.200001   \n",
      "Uruguay                 56.299999  56.500000  56.599998  56.700001  56.799999   \n",
      "Uzbekistan              54.500000  54.700001  55.000000  55.700001  56.099998   \n",
      "Venezuela               54.900002  53.500000  53.700001  55.200001  56.799999   \n",
      "Vietnam                 72.400002  72.400002  72.099998  71.599998  71.400002   \n",
      "West Bank and Gaza      29.400000  26.600000  29.400000  29.700001  31.400000   \n",
      "Yemen, Rep.             38.299999  38.400002  38.599998  38.700001  39.000000   \n",
      "Zambia                  60.700001  60.700001  60.700001  60.799999  60.799999   \n",
      "Zimbabwe                67.699997  67.599998  67.400002  67.400002  67.199997   \n",
      "\n",
      "                             2006       2007  \n",
      "Country                                       \n",
      "Afghanistan             56.000000  55.700001  \n",
      "Albania                 51.400002  51.400002  \n",
      "Algeria                 50.000000  50.500000  \n",
      "Angola                  75.500000  75.699997  \n",
      "Argentina               58.400002  58.400002  \n",
      "Armenia                 39.400002  40.099998  \n",
      "Australia               61.599998  61.500000  \n",
      "Austria                 57.099998  57.099998  \n",
      "Azerbaijan              59.299999  60.900002  \n",
      "Bahamas                 66.900002  66.599998  \n",
      "Bahrain                 60.599998  60.400002  \n",
      "Bangladesh              68.599998  68.099998  \n",
      "Barbados                66.400002  66.900002  \n",
      "Belarus                 53.700001  53.400002  \n",
      "Belgium                 48.200001  48.599998  \n",
      "Belize                  57.500000  56.799999  \n",
      "Benin                   71.599998  71.599998  \n",
      "Bhutan                  59.599998  58.400002  \n",
      "Bolivia                 70.099998  70.400002  \n",
      "Bosnia and Herzegovina  41.099998  41.200001  \n",
      "Botswana                45.500000  46.000000  \n",
      "Brazil                  64.000000  64.500000  \n",
      "Brunei                  64.099998  63.799999  \n",
      "Bulgaria                47.799999  47.299999  \n",
      "Burkina Faso            81.199997  81.300003  \n",
      "Burundi                 83.199997  83.199997  \n",
      "Cambodia                78.400002  78.900002  \n",
      "Cameroon                59.700001  59.099998  \n",
      "Canada                  62.500000  63.500000  \n",
      "Cape Verde              55.500000  55.900002  \n",
      "...                           ...        ...  \n",
      "Sri Lanka               54.299999  55.099998  \n",
      "Sudan                   47.000000  47.299999  \n",
      "Suriname                45.000000  44.700001  \n",
      "Swaziland               51.000000  50.900002  \n",
      "Sweden                  60.299999  60.700001  \n",
      "Switzerland             64.699997  64.300003  \n",
      "Syria                   44.799999  44.799999  \n",
      "Taiwan                  54.299999  54.500000  \n",
      "Tajikistan              51.200001  54.599998  \n",
      "Tanzania                78.099998  78.199997  \n",
      "Thailand                72.099998  72.000000  \n",
      "Macedonia, FYR          34.599998  34.900002  \n",
      "Togo                    64.000000  63.900002  \n",
      "Trinidad and Tobago     62.599998  61.500000  \n",
      "Tunisia                 41.400002  41.599998  \n",
      "Turkey                  43.500000  42.799999  \n",
      "Turkmenistan            58.200001  58.500000  \n",
      "Uganda                  83.099998  83.199997  \n",
      "Ukraine                 53.799999  54.400002  \n",
      "United Arab Emirates    75.000000  75.199997  \n",
      "United Kingdom          59.400002  59.299999  \n",
      "United States           62.599998  62.299999  \n",
      "Uruguay                 56.700001  57.500000  \n",
      "Uzbekistan              56.500000  57.500000  \n",
      "Venezuela               59.700001  59.900002  \n",
      "Vietnam                 71.199997  71.000000  \n",
      "West Bank and Gaza      31.600000  32.000000  \n",
      "Yemen, Rep.             39.099998  39.000000  \n",
      "Zambia                  60.799999  61.000000  \n",
      "Zimbabwe                66.900002  66.800003  \n",
      "\n",
      "[178 rows x 17 columns]\n"
     ]
    }
   ],
   "source": [
    "#哇，这里取出来的是一个二维的表格数据啊，这么吊，可以这么直接取，以国家为索引\n",
    "print employment"
   ]
  },
  {
   "cell_type": "code",
   "execution_count": 107,
   "metadata": {},
   "outputs": [
    {
     "name": "stdout",
     "output_type": "stream",
     "text": [
      "1991    61.299999\n",
      "1992    61.099998\n",
      "1993    61.400002\n",
      "1994    62.200001\n",
      "1995    62.599998\n",
      "1996    62.900002\n",
      "1997    63.400002\n",
      "1998    63.799999\n",
      "1999    64.000000\n",
      "2000    64.199997\n",
      "2001    63.299999\n",
      "2002    62.299999\n",
      "2003    61.799999\n",
      "2004    61.799999\n",
      "2005    62.200001\n",
      "2006    62.599998\n",
      "2007    62.299999\n",
      "Name: United States, dtype: float64\n"
     ]
    }
   ],
   "source": [
    "print employment_us"
   ]
  },
  {
   "cell_type": "code",
   "execution_count": 105,
   "metadata": {},
   "outputs": [
    {
     "data": {
      "text/plain": [
       "<matplotlib.axes._subplots.AxesSubplot at 0x12bb22b0>"
      ]
     },
     "execution_count": 105,
     "metadata": {},
     "output_type": "execute_result"
    },
    {
     "data": {
      "image/png": "[encoded data removed]",
      "text/plain": [
       "<Figure size 432x288 with 1 Axes>"
      ]
     },
     "metadata": {},
     "output_type": "display_data"
    }
   ],
   "source": [
    "employment_us.hist()#创建直方图"
   ]
  },
  {
   "cell_type": "code",
   "execution_count": 106,
   "metadata": {},
   "outputs": [
    {
     "data": {
      "text/plain": [
       "<matplotlib.axes._subplots.AxesSubplot at 0x12bb28d0>"
      ]
     },
     "execution_count": 106,
     "metadata": {},
     "output_type": "execute_result"
    },
    {
     "data": {
      "image/png": "[encoded data removed]",
      "text/plain": [
       "<Figure size 432x288 with 1 Axes>"
      ]
     },
     "metadata": {},
     "output_type": "display_data"
    }
   ],
   "source": [
    "employment_us.plot()#创建 Series 的线条图"
   ]
  },
  {
   "cell_type": "code",
   "execution_count": null,
   "metadata": {},
   "outputs": [],
   "source": []
  }
 ],
 "metadata": {
  "kernelspec": {
   "display_name": "Python 2",
   "language": "python",
   "name": "python2"
  },
  "language_info": {
   "codemirror_mode": {
    "name": "ipython",
    "version": 2
   },
   "file_extension": ".py",
   "mimetype": "text/x-python",
   "name": "python",
   "nbconvert_exporter": "python",
   "pygments_lexer": "ipython2",
   "version": "2.7.15"
  }
 },
 "nbformat": 4,
 "nbformat_minor": 2
}
